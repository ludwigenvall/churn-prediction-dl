{
  "nbformat": 4,
  "nbformat_minor": 0,
  "metadata": {
    "colab": {
      "provenance": [],
      "authorship_tag": "ABX9TyMMn6JX8SLWbwQqmgRlcluG",
      "include_colab_link": true
    },
    "kernelspec": {
      "name": "python3",
      "display_name": "Python 3"
    },
    "language_info": {
      "name": "python"
    }
  },
  "cells": [
    {
      "cell_type": "markdown",
      "metadata": {
        "id": "view-in-github",
        "colab_type": "text"
      },
      "source": [
        "<a href=\"https://colab.research.google.com/github/ludwigenvall/churn-prediction-dl/blob/main/03_train_lstm_model.ipynb\" target=\"_parent\"><img src=\"https://colab.research.google.com/assets/colab-badge.svg\" alt=\"Open In Colab\"/></a>"
      ]
    },
    {
      "cell_type": "code",
      "execution_count": 10,
      "metadata": {
        "id": "K1ABsvV8ViT3"
      },
      "outputs": [],
      "source": [
        "# Imports\n",
        "import pandas as pd\n",
        "import numpy as np\n",
        "import matplotlib.pyplot as plt\n",
        "\n",
        "from sklearn.model_selection import train_test_split\n",
        "from tensorflow.keras.callbacks import EarlyStopping\n",
        "\n"
      ]
    },
    {
      "cell_type": "code",
      "source": [
        "# Loading the simulated data from GitHub\n",
        "url = \"https://raw.githubusercontent.com/ludwigenvall/churn-prediction-dl/main/data/simulated_behavior1.csv\"\n",
        "df = pd.read_csv(url)\n",
        "df.head()\n",
        "\n",
        "df['log_len'] = df['logins_seq'].apply(len)\n",
        "df['support_len'] = df['support_seq'].apply(len)\n",
        "df['data_len'] = df['data_seq'].apply(len)\n",
        "\n",
        "print(\"Logins length counts:\\n\", df['log_len'].value_counts())\n",
        "print(\"Support length counts:\\n\", df['support_len'].value_counts())\n",
        "print(\"Data length counts:\\n\", df['data_len'].value_counts())\n",
        "\n"
      ],
      "metadata": {
        "colab": {
          "base_uri": "https://localhost:8080/"
        },
        "id": "VecGIgphWlA3",
        "outputId": "f691b584-382d-4a75-fdcc-c29e3654a8d5"
      },
      "execution_count": 6,
      "outputs": [
        {
          "output_type": "stream",
          "name": "stdout",
          "text": [
            "Logins length counts:\n",
            " log_len\n",
            "91    2339\n",
            "90    2148\n",
            "92    1513\n",
            "93     692\n",
            "94     258\n",
            "95      61\n",
            "96      20\n",
            "97       1\n",
            "Name: count, dtype: int64\n",
            "Support length counts:\n",
            " support_len\n",
            "90    7032\n",
            "Name: count, dtype: int64\n",
            "Data length counts:\n",
            " data_len\n",
            "584    840\n",
            "585    776\n",
            "583    746\n",
            "582    695\n",
            "586    630\n",
            "581    599\n",
            "587    502\n",
            "580    456\n",
            "588    406\n",
            "579    321\n",
            "589    257\n",
            "578    247\n",
            "590    130\n",
            "577    129\n",
            "576     76\n",
            "591     68\n",
            "575     43\n",
            "592     41\n",
            "574     24\n",
            "593     20\n",
            "573     10\n",
            "594      8\n",
            "572      6\n",
            "571      2\n",
            "Name: count, dtype: int64\n"
          ]
        }
      ]
    },
    {
      "cell_type": "code",
      "source": [
        "# Download baseline LSTM model from repo\n",
        "!wget https://raw.githubusercontent.com/ludwigenvall/churn-prediction-dl/main/scripts/lstm_model.py\n",
        "# Import functions from the file\n",
        "from lstm_model import prepare_lstm_data, build_lstm_model, compile_lstm_model\n",
        "\n",
        "X_train, X_test, y_train, y_test = prepare_lstm_data(df)\n",
        "print(\"X_train shape:\", X_train.shape)\n",
        "print(\"First element shape:\", np.array(X_train[0]).shape)\n"
      ],
      "metadata": {
        "colab": {
          "base_uri": "https://localhost:8080/"
        },
        "id": "RU3g-zhBXbNt",
        "outputId": "f4895e55-dd9a-4150-e507-1b2cce33bb54"
      },
      "execution_count": 7,
      "outputs": [
        {
          "output_type": "stream",
          "name": "stdout",
          "text": [
            "--2025-06-01 12:55:53--  https://raw.githubusercontent.com/ludwigenvall/churn-prediction-dl/main/scripts/lstm_model.py\n",
            "Resolving raw.githubusercontent.com (raw.githubusercontent.com)... 185.199.108.133, 185.199.109.133, 185.199.110.133, ...\n",
            "Connecting to raw.githubusercontent.com (raw.githubusercontent.com)|185.199.108.133|:443... connected.\n",
            "HTTP request sent, awaiting response... 200 OK\n",
            "Length: 1701 (1.7K) [text/plain]\n",
            "Saving to: ‘lstm_model.py.1’\n",
            "\n",
            "lstm_model.py.1     100%[===================>]   1.66K  --.-KB/s    in 0s      \n",
            "\n",
            "2025-06-01 12:55:53 (4.90 MB/s) - ‘lstm_model.py.1’ saved [1701/1701]\n",
            "\n",
            "X_train shape: (4922, 30, 3)\n",
            "First element shape: (30, 3)\n"
          ]
        }
      ]
    },
    {
      "cell_type": "markdown",
      "source": [
        "# Building and training LSTM model"
      ],
      "metadata": {
        "id": "aPIEHBetYYQi"
      }
    },
    {
      "cell_type": "code",
      "source": [
        "# Build and compile\n",
        "input_shape = (X_train.shape[1], X_train.shape[2])  # (30, 3)\n",
        "model = build_lstm_model(input_shape)\n",
        "model = compile_lstm_model(model)\n",
        "\n",
        "# Early stopping\n",
        "early_stop = EarlyStopping(patience=5, restore_best_weights=True)\n",
        "\n",
        "# Train the model\n",
        "history = model.fit(\n",
        "    X_train, y_train,\n",
        "    epochs=30,\n",
        "    batch_size=64,\n",
        "    validation_split=0.2,\n",
        "    callbacks=[early_stop]\n",
        ")\n"
      ],
      "metadata": {
        "id": "py1hD29EYXOr",
        "colab": {
          "base_uri": "https://localhost:8080/"
        },
        "outputId": "9afbaf3b-fc0a-4352-b2aa-7b79ef1ddc8b"
      },
      "execution_count": 8,
      "outputs": [
        {
          "output_type": "stream",
          "name": "stdout",
          "text": [
            "Epoch 1/30\n"
          ]
        },
        {
          "output_type": "stream",
          "name": "stderr",
          "text": [
            "/usr/local/lib/python3.11/dist-packages/keras/src/layers/rnn/rnn.py:200: UserWarning: Do not pass an `input_shape`/`input_dim` argument to a layer. When using Sequential models, prefer using an `Input(shape)` object as the first layer in the model instead.\n",
            "  super().__init__(**kwargs)\n"
          ]
        },
        {
          "output_type": "stream",
          "name": "stdout",
          "text": [
            "\u001b[1m62/62\u001b[0m \u001b[32m━━━━━━━━━━━━━━━━━━━━\u001b[0m\u001b[37m\u001b[0m \u001b[1m6s\u001b[0m 45ms/step - accuracy: 0.6631 - loss: 0.6075 - val_accuracy: 0.8467 - val_loss: 0.3592\n",
            "Epoch 2/30\n",
            "\u001b[1m62/62\u001b[0m \u001b[32m━━━━━━━━━━━━━━━━━━━━\u001b[0m\u001b[37m\u001b[0m \u001b[1m4s\u001b[0m 25ms/step - accuracy: 0.8641 - loss: 0.3345 - val_accuracy: 0.9076 - val_loss: 0.2508\n",
            "Epoch 3/30\n",
            "\u001b[1m62/62\u001b[0m \u001b[32m━━━━━━━━━━━━━━━━━━━━\u001b[0m\u001b[37m\u001b[0m \u001b[1m1s\u001b[0m 23ms/step - accuracy: 0.8970 - loss: 0.2518 - val_accuracy: 0.8792 - val_loss: 0.3301\n",
            "Epoch 4/30\n",
            "\u001b[1m62/62\u001b[0m \u001b[32m━━━━━━━━━━━━━━━━━━━━\u001b[0m\u001b[37m\u001b[0m \u001b[1m3s\u001b[0m 26ms/step - accuracy: 0.9020 - loss: 0.2516 - val_accuracy: 0.9086 - val_loss: 0.2094\n",
            "Epoch 5/30\n",
            "\u001b[1m62/62\u001b[0m \u001b[32m━━━━━━━━━━━━━━━━━━━━\u001b[0m\u001b[37m\u001b[0m \u001b[1m3s\u001b[0m 35ms/step - accuracy: 0.9130 - loss: 0.2165 - val_accuracy: 0.9147 - val_loss: 0.2144\n",
            "Epoch 6/30\n",
            "\u001b[1m62/62\u001b[0m \u001b[32m━━━━━━━━━━━━━━━━━━━━\u001b[0m\u001b[37m\u001b[0m \u001b[1m2s\u001b[0m 34ms/step - accuracy: 0.9088 - loss: 0.2297 - val_accuracy: 0.9168 - val_loss: 0.2055\n",
            "Epoch 7/30\n",
            "\u001b[1m62/62\u001b[0m \u001b[32m━━━━━━━━━━━━━━━━━━━━\u001b[0m\u001b[37m\u001b[0m \u001b[1m2s\u001b[0m 23ms/step - accuracy: 0.9053 - loss: 0.2151 - val_accuracy: 0.9036 - val_loss: 0.2682\n",
            "Epoch 8/30\n",
            "\u001b[1m62/62\u001b[0m \u001b[32m━━━━━━━━━━━━━━━━━━━━\u001b[0m\u001b[37m\u001b[0m \u001b[1m3s\u001b[0m 23ms/step - accuracy: 0.9185 - loss: 0.2168 - val_accuracy: 0.9066 - val_loss: 0.2151\n",
            "Epoch 9/30\n",
            "\u001b[1m62/62\u001b[0m \u001b[32m━━━━━━━━━━━━━━━━━━━━\u001b[0m\u001b[37m\u001b[0m \u001b[1m1s\u001b[0m 24ms/step - accuracy: 0.9161 - loss: 0.2092 - val_accuracy: 0.9228 - val_loss: 0.1920\n",
            "Epoch 10/30\n",
            "\u001b[1m62/62\u001b[0m \u001b[32m━━━━━━━━━━━━━━━━━━━━\u001b[0m\u001b[37m\u001b[0m \u001b[1m1s\u001b[0m 24ms/step - accuracy: 0.9258 - loss: 0.1804 - val_accuracy: 0.9178 - val_loss: 0.1867\n",
            "Epoch 11/30\n",
            "\u001b[1m62/62\u001b[0m \u001b[32m━━━━━━━━━━━━━━━━━━━━\u001b[0m\u001b[37m\u001b[0m \u001b[1m2s\u001b[0m 25ms/step - accuracy: 0.9219 - loss: 0.1891 - val_accuracy: 0.9147 - val_loss: 0.1960\n",
            "Epoch 12/30\n",
            "\u001b[1m62/62\u001b[0m \u001b[32m━━━━━━━━━━━━━━━━━━━━\u001b[0m\u001b[37m\u001b[0m \u001b[1m4s\u001b[0m 41ms/step - accuracy: 0.9257 - loss: 0.1879 - val_accuracy: 0.9168 - val_loss: 0.1870\n",
            "Epoch 13/30\n",
            "\u001b[1m62/62\u001b[0m \u001b[32m━━━━━━━━━━━━━━━━━━━━\u001b[0m\u001b[37m\u001b[0m \u001b[1m2s\u001b[0m 25ms/step - accuracy: 0.9224 - loss: 0.1891 - val_accuracy: 0.9218 - val_loss: 0.1884\n",
            "Epoch 14/30\n",
            "\u001b[1m62/62\u001b[0m \u001b[32m━━━━━━━━━━━━━━━━━━━━\u001b[0m\u001b[37m\u001b[0m \u001b[1m2s\u001b[0m 24ms/step - accuracy: 0.9243 - loss: 0.1889 - val_accuracy: 0.9117 - val_loss: 0.2071\n",
            "Epoch 15/30\n",
            "\u001b[1m62/62\u001b[0m \u001b[32m━━━━━━━━━━━━━━━━━━━━\u001b[0m\u001b[37m\u001b[0m \u001b[1m2s\u001b[0m 26ms/step - accuracy: 0.9151 - loss: 0.1986 - val_accuracy: 0.9198 - val_loss: 0.1934\n"
          ]
        }
      ]
    },
    {
      "cell_type": "code",
      "source": [
        "plt.plot(history.history['loss'], label='Train Loss')\n",
        "plt.plot(history.history['val_loss'], label='Val Loss')\n",
        "plt.xlabel('Epoch')\n",
        "plt.ylabel('Loss')\n",
        "plt.legend()\n",
        "plt.title('Loss curve')\n",
        "plt.show()"
      ],
      "metadata": {
        "colab": {
          "base_uri": "https://localhost:8080/",
          "height": 472
        },
        "id": "t6PJpog7lHnK",
        "outputId": "6a889d7f-60d0-412d-a5b0-76e4fc7473e8"
      },
      "execution_count": 11,
      "outputs": [
        {
          "output_type": "display_data",
          "data": {
            "text/plain": [
              "<Figure size 640x480 with 1 Axes>"
            ],
            "image/png": "[encoded data removed]"
          },
          "metadata": {}
        }
      ]
    },
    {
      "cell_type": "code",
      "source": [
        "from tensorflow.keras.models import Sequential\n",
        "from tensorflow.keras.layers import LSTM, Dropout, Dense\n",
        "\n",
        "model = Sequential([\n",
        "    LSTM(64, return_sequences=True, input_shape=(30, 3)),\n",
        "    Dropout(0.3),\n",
        "    LSTM(32),\n",
        "    Dropout(0.2),\n",
        "    Dense(32, activation='relu'),\n",
        "    Dense(1, activation='sigmoid')\n",
        "])\n",
        "\n",
        "model = compile_lstm_model(model)\n",
        "\n",
        "# Train the model\n",
        "history = model.fit(\n",
        "    X_train, y_train,\n",
        "    epochs=30,\n",
        "    batch_size=64,\n",
        "    validation_split=0.2,\n",
        "    callbacks=[early_stop]\n",
        ")\n",
        "\n",
        "plt.plot(history.history['loss'], label='Train Loss')\n",
        "plt.plot(history.history['val_loss'], label='Val Loss')\n",
        "plt.xlabel('Epoch')\n",
        "plt.ylabel('Loss')\n",
        "plt.legend()\n",
        "plt.title('Loss curve')\n",
        "plt.show()"
      ],
      "metadata": {
        "id": "ZwFJsiLQlm8k"
      },
      "execution_count": null,
      "outputs": []
    }
  ]
}